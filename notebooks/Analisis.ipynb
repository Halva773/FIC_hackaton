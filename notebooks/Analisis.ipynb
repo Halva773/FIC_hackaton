{
 "cells": [
  {
   "cell_type": "code",
   "execution_count": 114,
   "id": "dbceac50",
   "metadata": {},
   "outputs": [],
   "source": [
    "import pandas as pd\n",
    "import numpy as np"
   ]
  },
  {
   "cell_type": "code",
   "execution_count": 23,
   "id": "7916c237",
   "metadata": {},
   "outputs": [
    {
     "name": "stdout",
     "output_type": "stream",
     "text": [
      "(12673, 8)\n"
     ]
    },
    {
     "data": {
      "text/html": [
       "<div>\n",
       "<style scoped>\n",
       "    .dataframe tbody tr th:only-of-type {\n",
       "        vertical-align: middle;\n",
       "    }\n",
       "\n",
       "    .dataframe tbody tr th {\n",
       "        vertical-align: top;\n",
       "    }\n",
       "\n",
       "    .dataframe thead th {\n",
       "        text-align: right;\n",
       "    }\n",
       "</style>\n",
       "<table border=\"1\" class=\"dataframe\">\n",
       "  <thead>\n",
       "    <tr style=\"text-align: right;\">\n",
       "      <th></th>\n",
       "      <th>position</th>\n",
       "      <th>age</th>\n",
       "      <th>country</th>\n",
       "      <th>city</th>\n",
       "      <th>key_skills</th>\n",
       "      <th>client_name</th>\n",
       "      <th>grade_proof</th>\n",
       "      <th>salary</th>\n",
       "    </tr>\n",
       "  </thead>\n",
       "  <tbody>\n",
       "    <tr>\n",
       "      <th>0</th>\n",
       "      <td>\"программист\" (по факту аналитик), отдел проек...</td>\n",
       "      <td>34.0</td>\n",
       "      <td>Россия</td>\n",
       "      <td>Барнаул</td>\n",
       "      <td>Анализ требований, Разработка ТЗ, Управление т...</td>\n",
       "      <td>ТОП Финтех</td>\n",
       "      <td>не подтверждён</td>\n",
       "      <td>Вероника претендует на Грейд 2 (Остальные реги...</td>\n",
       "    </tr>\n",
       "    <tr>\n",
       "      <th>1</th>\n",
       "      <td>(Повышение) Инженер отдела управления инфрастр...</td>\n",
       "      <td>35.0</td>\n",
       "      <td>Россия</td>\n",
       "      <td>Калининград</td>\n",
       "      <td>Организация обработки конфиденциальной информа...</td>\n",
       "      <td>ТОП IT (сервисы, интеграторы)</td>\n",
       "      <td>не подтверждён</td>\n",
       "      <td>Минимум 200 (net, без учёта премий), комфорт 2...</td>\n",
       "    </tr>\n",
       "    <tr>\n",
       "      <th>2</th>\n",
       "      <td>(Повышение) Инженер отдела управления инфрастр...</td>\n",
       "      <td>35.0</td>\n",
       "      <td>Россия</td>\n",
       "      <td>Калининград</td>\n",
       "      <td>Организация обработки конфиденциальной информа...</td>\n",
       "      <td>ТОП Телеком</td>\n",
       "      <td>не подтверждён</td>\n",
       "      <td>Минимум 200 (net, без учёта премий), комфорт 2...</td>\n",
       "    </tr>\n",
       "    <tr>\n",
       "      <th>3</th>\n",
       "      <td>(Повышение) Инженер отдела управления инфрастр...</td>\n",
       "      <td>35.0</td>\n",
       "      <td>Россия</td>\n",
       "      <td>Калининград</td>\n",
       "      <td>Организация обработки конфиденциальной информа...</td>\n",
       "      <td>ТОП IT (сервисы, интеграторы)</td>\n",
       "      <td>не подтверждён</td>\n",
       "      <td>Минимум 200 (net, без учёта премий), комфорт 2...</td>\n",
       "    </tr>\n",
       "    <tr>\n",
       "      <th>4</th>\n",
       "      <td>(Повышение) Инженер отдела управления инфрастр...</td>\n",
       "      <td>35.0</td>\n",
       "      <td>Россия</td>\n",
       "      <td>Калининград</td>\n",
       "      <td>Организация обработки конфиденциальной информа...</td>\n",
       "      <td>ТОП Финтех</td>\n",
       "      <td>не подтверждён</td>\n",
       "      <td>Минимум 200 (net, без учёта премий), комфорт 2...</td>\n",
       "    </tr>\n",
       "  </tbody>\n",
       "</table>\n",
       "</div>"
      ],
      "text/plain": [
       "                                            position   age country  \\\n",
       "0  \"программист\" (по факту аналитик), отдел проек...  34.0  Россия   \n",
       "1  (Повышение) Инженер отдела управления инфрастр...  35.0  Россия   \n",
       "2  (Повышение) Инженер отдела управления инфрастр...  35.0  Россия   \n",
       "3  (Повышение) Инженер отдела управления инфрастр...  35.0  Россия   \n",
       "4  (Повышение) Инженер отдела управления инфрастр...  35.0  Россия   \n",
       "\n",
       "          city                                         key_skills  \\\n",
       "0      Барнаул  Анализ требований, Разработка ТЗ, Управление т...   \n",
       "1  Калининград  Организация обработки конфиденциальной информа...   \n",
       "2  Калининград  Организация обработки конфиденциальной информа...   \n",
       "3  Калининград  Организация обработки конфиденциальной информа...   \n",
       "4  Калининград  Организация обработки конфиденциальной информа...   \n",
       "\n",
       "                     client_name     grade_proof  \\\n",
       "0                     ТОП Финтех  не подтверждён   \n",
       "1  ТОП IT (сервисы, интеграторы)  не подтверждён   \n",
       "2                    ТОП Телеком  не подтверждён   \n",
       "3  ТОП IT (сервисы, интеграторы)  не подтверждён   \n",
       "4                     ТОП Финтех  не подтверждён   \n",
       "\n",
       "                                              salary  \n",
       "0  Вероника претендует на Грейд 2 (Остальные реги...  \n",
       "1  Минимум 200 (net, без учёта премий), комфорт 2...  \n",
       "2  Минимум 200 (net, без учёта премий), комфорт 2...  \n",
       "3  Минимум 200 (net, без учёта премий), комфорт 2...  \n",
       "4  Минимум 200 (net, без учёта премий), комфорт 2...  "
      ]
     },
     "execution_count": 23,
     "metadata": {},
     "output_type": "execute_result"
    }
   ],
   "source": [
    "data = pd.read_csv('../data/client_dataset_csv.csv', index_col=0)\n",
    "print(data.shape)\n",
    "data.head()"
   ]
  },
  {
   "cell_type": "code",
   "execution_count": 26,
   "id": "14717281",
   "metadata": {},
   "outputs": [
    {
     "data": {
      "text/plain": [
       "client_name\n",
       "ТОП Финтех                       550\n",
       "ТОП IT (сервисы, интеграторы)     83\n",
       "ТОП Телеком                       69\n",
       "X5 Group                          21\n",
       "Cloud.ru                          12\n",
       "Яндекс Маркет                      7\n",
       "ЮЛаки                              7\n",
       "Сбер Еаптека                       7\n",
       "ТОП eCOM                           7\n",
       "Click2Money                        3\n",
       "Nebius                             3\n",
       "Amdocs                             3\n",
       "М.Видео – Эльдорадо                3\n",
       "Брусника                           3\n",
       "ЛитРес                             2\n",
       "4 Лапы                             2\n",
       "Хеликон                            2\n",
       "Fun&Sun                            2\n",
       "РСХБ                               2\n",
       "Loymax                             2\n",
       "OZON                               2\n",
       "Казино NDA                         2\n",
       "Самолёт                            2\n",
       "585 RPO                            1\n",
       "Equifax                            1\n",
       "Papa John's                        1\n",
       "Brand Analytics                    1\n",
       "InDrive                            1\n",
       "Яндекс.Cloud                       1\n",
       "ЦБ РФ                              1\n",
       "Hawex                              1\n",
       "BIOCAD                             1\n",
       "Name: count, dtype: int64"
      ]
     },
     "execution_count": 26,
     "metadata": {},
     "output_type": "execute_result"
    }
   ],
   "source": [
    "data[data.grade_proof == 'подтверждён'].client_name.value_counts()"
   ]
  },
  {
   "cell_type": "code",
   "execution_count": 30,
   "id": "e801ffe3",
   "metadata": {},
   "outputs": [
    {
     "data": {
      "text/plain": [
       "position\n",
       "Системный аналитик                            679\n",
       "Ведущий системный аналитик                    215\n",
       "Java Developer                                183\n",
       "Java-разработчик                              170\n",
       "DevOps                                        149\n",
       "                                             ... \n",
       "Tech Lead (Ansible)                             1\n",
       "Tech Lead / ранее Ведущий Java разработчик      1\n",
       "Tech Lead AQA                                   1\n",
       "Tech Lead DevOps                                1\n",
       "‮                                               1\n",
       "Name: count, Length: 4033, dtype: int64"
      ]
     },
     "execution_count": 30,
     "metadata": {},
     "output_type": "execute_result"
    }
   ],
   "source": [
    "data.position.value_counts()"
   ]
  },
  {
   "cell_type": "code",
   "execution_count": 14,
   "id": "6c35d2a4",
   "metadata": {},
   "outputs": [],
   "source": [
    "data.position = data.position.apply(lambda x: x.lower())# value_counts().head()"
   ]
  },
  {
   "cell_type": "code",
   "execution_count": 15,
   "id": "bef7ee6e",
   "metadata": {},
   "outputs": [
    {
     "data": {
      "text/plain": [
       "position\n",
       ".net разработчик                                         40\n",
       ".net developer                                           27\n",
       ".net backend developer                                    6\n",
       "(повышение) инженер отдела управления инфраструктурой     4\n",
       "1с программист                                            4\n",
       "Name: count, dtype: int64"
      ]
     },
     "execution_count": 15,
     "metadata": {},
     "output_type": "execute_result"
    }
   ],
   "source": [
    "data.position.value_counts().head()"
   ]
  },
  {
   "cell_type": "code",
   "execution_count": 152,
   "id": "e08699f2",
   "metadata": {},
   "outputs": [
    {
     "data": {
      "text/plain": [
       "client_name\n",
       "4 Лапы         15\n",
       "585 RPO        29\n",
       "Air Liquide     4\n",
       "Amdocs         46\n",
       "Auxo            2\n",
       "dtype: int64"
      ]
     },
     "execution_count": 152,
     "metadata": {},
     "output_type": "execute_result"
    }
   ],
   "source": [
    "popularity = data.groupby('client_name').size() # Популярность компании\n",
    "popularity.head()"
   ]
  },
  {
   "cell_type": "code",
   "execution_count": 103,
   "id": "87098289",
   "metadata": {},
   "outputs": [
    {
     "data": {
      "text/plain": [
       "25.15625"
      ]
     },
     "execution_count": 103,
     "metadata": {},
     "output_type": "execute_result"
    }
   ],
   "source": [
    "staff_turnover = data[data.grade_proof == 'подтверждён'].groupby('client_name').size() # Текучка кадров\n",
    "staff_turnover.mean()"
   ]
  },
  {
   "cell_type": "code",
   "execution_count": 145,
   "id": "7f7334d9",
   "metadata": {},
   "outputs": [
    {
     "data": {
      "text/html": [
       "<div>\n",
       "<style scoped>\n",
       "    .dataframe tbody tr th:only-of-type {\n",
       "        vertical-align: middle;\n",
       "    }\n",
       "\n",
       "    .dataframe tbody tr th {\n",
       "        vertical-align: top;\n",
       "    }\n",
       "\n",
       "    .dataframe thead th {\n",
       "        text-align: right;\n",
       "    }\n",
       "</style>\n",
       "<table border=\"1\" class=\"dataframe\">\n",
       "  <thead>\n",
       "    <tr style=\"text-align: right;\">\n",
       "      <th></th>\n",
       "      <th></th>\n",
       "      <th>total_applicants</th>\n",
       "      <th>confirmed_applicants</th>\n",
       "      <th>competition_ratio</th>\n",
       "    </tr>\n",
       "    <tr>\n",
       "      <th>client_name</th>\n",
       "      <th>position</th>\n",
       "      <th></th>\n",
       "      <th></th>\n",
       "      <th></th>\n",
       "    </tr>\n",
       "  </thead>\n",
       "  <tbody>\n",
       "    <tr>\n",
       "      <th rowspan=\"5\" valign=\"top\">4 Лапы</th>\n",
       "      <th>UX/UI Дизайнер</th>\n",
       "      <td>1</td>\n",
       "      <td>0.0</td>\n",
       "      <td>NaN</td>\n",
       "    </tr>\n",
       "    <tr>\n",
       "      <th>Администратор проектов</th>\n",
       "      <td>1</td>\n",
       "      <td>0.0</td>\n",
       "      <td>NaN</td>\n",
       "    </tr>\n",
       "    <tr>\n",
       "      <th>Аналитик</th>\n",
       "      <td>1</td>\n",
       "      <td>0.0</td>\n",
       "      <td>NaN</td>\n",
       "    </tr>\n",
       "    <tr>\n",
       "      <th>Бухгалтер</th>\n",
       "      <td>1</td>\n",
       "      <td>0.0</td>\n",
       "      <td>NaN</td>\n",
       "    </tr>\n",
       "    <tr>\n",
       "      <th>Главный бухгалтер</th>\n",
       "      <td>2</td>\n",
       "      <td>1.0</td>\n",
       "      <td>2.0</td>\n",
       "    </tr>\n",
       "    <tr>\n",
       "      <th>...</th>\n",
       "      <th>...</th>\n",
       "      <td>...</td>\n",
       "      <td>...</td>\n",
       "      <td>...</td>\n",
       "    </tr>\n",
       "    <tr>\n",
       "      <th rowspan=\"5\" valign=\"top\">Яндекс.Cloud</th>\n",
       "      <th>Ведущий python Разработчик</th>\n",
       "      <td>1</td>\n",
       "      <td>0.0</td>\n",
       "      <td>NaN</td>\n",
       "    </tr>\n",
       "    <tr>\n",
       "      <th>Ведущий разработчик</th>\n",
       "      <td>1</td>\n",
       "      <td>0.0</td>\n",
       "      <td>NaN</td>\n",
       "    </tr>\n",
       "    <tr>\n",
       "      <th>Программист-разработчик</th>\n",
       "      <td>1</td>\n",
       "      <td>0.0</td>\n",
       "      <td>NaN</td>\n",
       "    </tr>\n",
       "    <tr>\n",
       "      <th>Старший разработчик</th>\n",
       "      <td>1</td>\n",
       "      <td>0.0</td>\n",
       "      <td>NaN</td>\n",
       "    </tr>\n",
       "    <tr>\n",
       "      <th>Старший разработчик программного обеспечения</th>\n",
       "      <td>1</td>\n",
       "      <td>0.0</td>\n",
       "      <td>NaN</td>\n",
       "    </tr>\n",
       "  </tbody>\n",
       "</table>\n",
       "<p>5876 rows × 3 columns</p>\n",
       "</div>"
      ],
      "text/plain": [
       "                                                           total_applicants  \\\n",
       "client_name  position                                                         \n",
       "4 Лапы       UX/UI Дизайнер                                               1   \n",
       "             Администратор проектов                                       1   \n",
       "             Аналитик                                                     1   \n",
       "             Бухгалтер                                                    1   \n",
       "             Главный бухгалтер                                            2   \n",
       "...                                                                     ...   \n",
       "Яндекс.Cloud Ведущий python Разработчик                                   1   \n",
       "             Ведущий разработчик                                          1   \n",
       "             Программист-разработчик                                      1   \n",
       "             Старший разработчик                                          1   \n",
       "             Старший разработчик программного обеспечения                 1   \n",
       "\n",
       "                                                           confirmed_applicants  \\\n",
       "client_name  position                                                             \n",
       "4 Лапы       UX/UI Дизайнер                                                 0.0   \n",
       "             Администратор проектов                                         0.0   \n",
       "             Аналитик                                                       0.0   \n",
       "             Бухгалтер                                                      0.0   \n",
       "             Главный бухгалтер                                              1.0   \n",
       "...                                                                         ...   \n",
       "Яндекс.Cloud Ведущий python Разработчик                                     0.0   \n",
       "             Ведущий разработчик                                            0.0   \n",
       "             Программист-разработчик                                        0.0   \n",
       "             Старший разработчик                                            0.0   \n",
       "             Старший разработчик программного обеспечения                   0.0   \n",
       "\n",
       "                                                           competition_ratio  \n",
       "client_name  position                                                         \n",
       "4 Лапы       UX/UI Дизайнер                                              NaN  \n",
       "             Администратор проектов                                      NaN  \n",
       "             Аналитик                                                    NaN  \n",
       "             Бухгалтер                                                   NaN  \n",
       "             Главный бухгалтер                                           2.0  \n",
       "...                                                                      ...  \n",
       "Яндекс.Cloud Ведущий python Разработчик                                  NaN  \n",
       "             Ведущий разработчик                                         NaN  \n",
       "             Программист-разработчик                                     NaN  \n",
       "             Старший разработчик                                         NaN  \n",
       "             Старший разработчик программного обеспечения                NaN  \n",
       "\n",
       "[5876 rows x 3 columns]"
      ]
     },
     "execution_count": 145,
     "metadata": {},
     "output_type": "execute_result"
    }
   ],
   "source": [
    "competition = data.groupby(['client_name', 'position']).size()\n",
    "confirmed_count = data[data['grade_proof'] == 'подтверждён'].groupby(['client_name', 'position']).size()\n",
    "competition_df = competition.to_frame(name='total_applicants').join(\n",
    "    confirmed_count.to_frame(name='confirmed_applicants'), how='left'\n",
    ")\n",
    "competition_df['confirmed_applicants'] = competition_df['confirmed_applicants'].fillna(0)  # Заполнить NaN нулями\n",
    "competition_df['competition_ratio'] = competition_df['total_applicants'] / competition_df['confirmed_applicants']\n",
    "competition_df['competition_ratio'].replace(np.inf, np.nan, inplace=True)  # Убрать бесконечности (если нет подтверждённых)\n",
    "\n",
    "competition_df[competition_df.competition_ratio != np.nan]"
   ]
  },
  {
   "cell_type": "code",
   "execution_count": 146,
   "id": "60e4f78a",
   "metadata": {},
   "outputs": [
    {
     "data": {
      "text/html": [
       "<div>\n",
       "<style scoped>\n",
       "    .dataframe tbody tr th:only-of-type {\n",
       "        vertical-align: middle;\n",
       "    }\n",
       "\n",
       "    .dataframe tbody tr th {\n",
       "        vertical-align: top;\n",
       "    }\n",
       "\n",
       "    .dataframe thead th {\n",
       "        text-align: right;\n",
       "    }\n",
       "</style>\n",
       "<table border=\"1\" class=\"dataframe\">\n",
       "  <thead>\n",
       "    <tr style=\"text-align: right;\">\n",
       "      <th></th>\n",
       "      <th></th>\n",
       "      <th>total_applicants</th>\n",
       "      <th>confirmed_applicants</th>\n",
       "      <th>competition_ratio</th>\n",
       "    </tr>\n",
       "    <tr>\n",
       "      <th>client_name</th>\n",
       "      <th>position</th>\n",
       "      <th></th>\n",
       "      <th></th>\n",
       "      <th></th>\n",
       "    </tr>\n",
       "  </thead>\n",
       "  <tbody>\n",
       "    <tr>\n",
       "      <th rowspan=\"2\" valign=\"top\">4 Лапы</th>\n",
       "      <th>Главный бухгалтер</th>\n",
       "      <td>2</td>\n",
       "      <td>1.0</td>\n",
       "      <td>2.0</td>\n",
       "    </tr>\n",
       "    <tr>\n",
       "      <th>Начальник службы информационной безопасности</th>\n",
       "      <td>1</td>\n",
       "      <td>1.0</td>\n",
       "      <td>1.0</td>\n",
       "    </tr>\n",
       "    <tr>\n",
       "      <th>585 RPO</th>\n",
       "      <th>Lead DevOps Engineer</th>\n",
       "      <td>1</td>\n",
       "      <td>1.0</td>\n",
       "      <td>1.0</td>\n",
       "    </tr>\n",
       "    <tr>\n",
       "      <th rowspan=\"2\" valign=\"top\">Amdocs</th>\n",
       "      <th>Frontend-developer</th>\n",
       "      <td>2</td>\n",
       "      <td>1.0</td>\n",
       "      <td>2.0</td>\n",
       "    </tr>\n",
       "    <tr>\n",
       "      <th>Software Engineer</th>\n",
       "      <td>3</td>\n",
       "      <td>1.0</td>\n",
       "      <td>3.0</td>\n",
       "    </tr>\n",
       "    <tr>\n",
       "      <th>...</th>\n",
       "      <th>...</th>\n",
       "      <td>...</td>\n",
       "      <td>...</td>\n",
       "      <td>...</td>\n",
       "    </tr>\n",
       "    <tr>\n",
       "      <th rowspan=\"4\" valign=\"top\">Яндекс Маркет</th>\n",
       "      <th>DevOps</th>\n",
       "      <td>3</td>\n",
       "      <td>1.0</td>\n",
       "      <td>3.0</td>\n",
       "    </tr>\n",
       "    <tr>\n",
       "      <th>DevOps Tech Lead</th>\n",
       "      <td>1</td>\n",
       "      <td>1.0</td>\n",
       "      <td>1.0</td>\n",
       "    </tr>\n",
       "    <tr>\n",
       "      <th>Senior Data Engineer</th>\n",
       "      <td>1</td>\n",
       "      <td>1.0</td>\n",
       "      <td>1.0</td>\n",
       "    </tr>\n",
       "    <tr>\n",
       "      <th>старший специалист по большим данным</th>\n",
       "      <td>1</td>\n",
       "      <td>1.0</td>\n",
       "      <td>1.0</td>\n",
       "    </tr>\n",
       "    <tr>\n",
       "      <th>Яндекс.Cloud</th>\n",
       "      <th>Android developer</th>\n",
       "      <td>2</td>\n",
       "      <td>1.0</td>\n",
       "      <td>2.0</td>\n",
       "    </tr>\n",
       "  </tbody>\n",
       "</table>\n",
       "<p>562 rows × 3 columns</p>\n",
       "</div>"
      ],
      "text/plain": [
       "                                                            total_applicants  \\\n",
       "client_name   position                                                         \n",
       "4 Лапы        Главный бухгалтер                                            2   \n",
       "              Начальник службы информационной безопасности                 1   \n",
       "585 RPO       Lead DevOps Engineer                                         1   \n",
       "Amdocs        Frontend-developer                                           2   \n",
       "              Software Engineer                                            3   \n",
       "...                                                                      ...   \n",
       "Яндекс Маркет DevOps                                                       3   \n",
       "              DevOps Tech Lead                                             1   \n",
       "              Senior Data Engineer                                         1   \n",
       "              старший специалист по большим данным                         1   \n",
       "Яндекс.Cloud  Android developer                                            2   \n",
       "\n",
       "                                                            confirmed_applicants  \\\n",
       "client_name   position                                                             \n",
       "4 Лапы        Главный бухгалтер                                              1.0   \n",
       "              Начальник службы информационной безопасности                   1.0   \n",
       "585 RPO       Lead DevOps Engineer                                           1.0   \n",
       "Amdocs        Frontend-developer                                             1.0   \n",
       "              Software Engineer                                              1.0   \n",
       "...                                                                          ...   \n",
       "Яндекс Маркет DevOps                                                         1.0   \n",
       "              DevOps Tech Lead                                               1.0   \n",
       "              Senior Data Engineer                                           1.0   \n",
       "              старший специалист по большим данным                           1.0   \n",
       "Яндекс.Cloud  Android developer                                              1.0   \n",
       "\n",
       "                                                            competition_ratio  \n",
       "client_name   position                                                         \n",
       "4 Лапы        Главный бухгалтер                                           2.0  \n",
       "              Начальник службы информационной безопасности                1.0  \n",
       "585 RPO       Lead DevOps Engineer                                        1.0  \n",
       "Amdocs        Frontend-developer                                          2.0  \n",
       "              Software Engineer                                           3.0  \n",
       "...                                                                       ...  \n",
       "Яндекс Маркет DevOps                                                      3.0  \n",
       "              DevOps Tech Lead                                            1.0  \n",
       "              Senior Data Engineer                                        1.0  \n",
       "              старший специалист по большим данным                        1.0  \n",
       "Яндекс.Cloud  Android developer                                           2.0  \n",
       "\n",
       "[562 rows x 3 columns]"
      ]
     },
     "execution_count": 146,
     "metadata": {},
     "output_type": "execute_result"
    }
   ],
   "source": [
    "competition_df.dropna(subset=['competition_ratio'])"
   ]
  },
  {
   "cell_type": "code",
   "execution_count": 151,
   "id": "699c98aa",
   "metadata": {},
   "outputs": [
    {
     "data": {
      "text/plain": [
       "array(['ТОП Финтех', 'ТОП IT (сервисы, интеграторы)', 'ТОП Телеком',\n",
       "       'X5 Group', 'Черкизово', 'BIOCAD', 'Hoff', 'Яндекс Райдтех',\n",
       "       'Крок', 'Nebius', 'Click2Money', 'Pay365', 'OZON', 'РСХБ',\n",
       "       'Хеликон', 'Cloud.ru', 'Самолёт', 'Яндекс Маркет', 'Яндекс.Cloud',\n",
       "       'ТОП eCOM', 'IVI', 'Banki.ru', '585 RPO', 'Сбер Еаптека',\n",
       "       'Информзащита', 'Казино NDA', 'Onpoint', 'Food Rocket', 'Hawex',\n",
       "       'Loymax', 'EggHeads', 'Брусника', 'Amdocs', 'ЮЛаки', 'Fun&Sun',\n",
       "       'nil.foundation', 'Brand Analytics', 'М.Видео – Эльдорадо',\n",
       "       'Equifax', 'Mercury', 'Прочее', 'МТС Банк (Аутсорс)',\n",
       "       'МТС (Аутсорс)', 'Хантфлоу', \"Papa John's\", 'Национальная Лотерея',\n",
       "       'ЛитРес', 'InDrive', 'Просвещение', 'Совкомбанк',\n",
       "       'Национальная Медиа Группа (МСБ)', 'ЦБ РФ', 'SRG Group', 'Этнамед',\n",
       "       'Usetech', 'Яндекс. Такси', 'АО Азот-Взрыв', 'Glue up',\n",
       "       'PIM Solutions', 'Metaship', 'Sitronics', '4 Лапы', 'Ингосстрах',\n",
       "       'Nestle', 'Auxo', 'Айтуби', 'Sunlight', 'Air Liquide', 'Т2',\n",
       "       'Яндекс Академия'], dtype=object)"
      ]
     },
     "execution_count": 151,
     "metadata": {},
     "output_type": "execute_result"
    }
   ],
   "source": [
    "data.client_name.unique()"
   ]
  },
  {
   "cell_type": "code",
   "execution_count": 29,
   "id": "eb7558e4",
   "metadata": {},
   "outputs": [
    {
     "name": "stdout",
     "output_type": "stream",
     "text": [
      "Компании и позиции без подтверждённых случаев:\n"
     ]
    },
    {
     "data": {
      "text/html": [
       "<div>\n",
       "<style scoped>\n",
       "    .dataframe tbody tr th:only-of-type {\n",
       "        vertical-align: middle;\n",
       "    }\n",
       "\n",
       "    .dataframe tbody tr th {\n",
       "        vertical-align: top;\n",
       "    }\n",
       "\n",
       "    .dataframe thead th {\n",
       "        text-align: right;\n",
       "    }\n",
       "</style>\n",
       "<table border=\"1\" class=\"dataframe\">\n",
       "  <thead>\n",
       "    <tr style=\"text-align: right;\">\n",
       "      <th></th>\n",
       "      <th>position</th>\n",
       "      <th>client_name</th>\n",
       "    </tr>\n",
       "  </thead>\n",
       "  <tbody>\n",
       "    <tr>\n",
       "      <th>0</th>\n",
       "      <td>\"программист\" (по факту аналитик), отдел проек...</td>\n",
       "      <td>ТОП Финтех</td>\n",
       "    </tr>\n",
       "    <tr>\n",
       "      <th>1</th>\n",
       "      <td>(Повышение) Инженер отдела управления инфрастр...</td>\n",
       "      <td>ТОП IT (сервисы, интеграторы)</td>\n",
       "    </tr>\n",
       "    <tr>\n",
       "      <th>2</th>\n",
       "      <td>(Повышение) Инженер отдела управления инфрастр...</td>\n",
       "      <td>ТОП Телеком</td>\n",
       "    </tr>\n",
       "    <tr>\n",
       "      <th>3</th>\n",
       "      <td>(Повышение) Инженер отдела управления инфрастр...</td>\n",
       "      <td>ТОП Финтех</td>\n",
       "    </tr>\n",
       "    <tr>\n",
       "      <th>4</th>\n",
       "      <td>(Проектная работа) QC Engineer</td>\n",
       "      <td>ТОП IT (сервисы, интеграторы)</td>\n",
       "    </tr>\n",
       "    <tr>\n",
       "      <th>...</th>\n",
       "      <td>...</td>\n",
       "      <td>...</td>\n",
       "    </tr>\n",
       "    <tr>\n",
       "      <th>5869</th>\n",
       "      <td>старший Java разработчик</td>\n",
       "      <td>ТОП Финтех</td>\n",
       "    </tr>\n",
       "    <tr>\n",
       "      <th>5871</th>\n",
       "      <td>старший инженер тестировщик</td>\n",
       "      <td>ТОП Финтех</td>\n",
       "    </tr>\n",
       "    <tr>\n",
       "      <th>5873</th>\n",
       "      <td>тимлид(Lead)</td>\n",
       "      <td>Сбер Еаптека</td>\n",
       "    </tr>\n",
       "    <tr>\n",
       "      <th>5874</th>\n",
       "      <td>фронтэнд разработчик</td>\n",
       "      <td>ТОП Финтех</td>\n",
       "    </tr>\n",
       "    <tr>\n",
       "      <th>5875</th>\n",
       "      <td>‮</td>\n",
       "      <td>ТОП Телеком</td>\n",
       "    </tr>\n",
       "  </tbody>\n",
       "</table>\n",
       "<p>5314 rows × 2 columns</p>\n",
       "</div>"
      ],
      "text/plain": [
       "                                               position  \\\n",
       "0     \"программист\" (по факту аналитик), отдел проек...   \n",
       "1     (Повышение) Инженер отдела управления инфрастр...   \n",
       "2     (Повышение) Инженер отдела управления инфрастр...   \n",
       "3     (Повышение) Инженер отдела управления инфрастр...   \n",
       "4                        (Проектная работа) QC Engineer   \n",
       "...                                                 ...   \n",
       "5869                           старший Java разработчик   \n",
       "5871                        старший инженер тестировщик   \n",
       "5873                                       тимлид(Lead)   \n",
       "5874                               фронтэнд разработчик   \n",
       "5875                                                  ‮   \n",
       "\n",
       "                        client_name  \n",
       "0                        ТОП Финтех  \n",
       "1     ТОП IT (сервисы, интеграторы)  \n",
       "2                       ТОП Телеком  \n",
       "3                        ТОП Финтех  \n",
       "4     ТОП IT (сервисы, интеграторы)  \n",
       "...                             ...  \n",
       "5869                     ТОП Финтех  \n",
       "5871                     ТОП Финтех  \n",
       "5873                   Сбер Еаптека  \n",
       "5874                     ТОП Финтех  \n",
       "5875                    ТОП Телеком  \n",
       "\n",
       "[5314 rows x 2 columns]"
      ]
     },
     "execution_count": 29,
     "metadata": {},
     "output_type": "execute_result"
    }
   ],
   "source": [
    "confirmed_cases = data[data['grade_proof'] == 'подтверждён']\n",
    "\n",
    "# Шаг 2: Определим пары (position, client_name) с подтверждёнными случаями\n",
    "confirmed_positions = confirmed_cases[['position', 'client_name']].drop_duplicates()\n",
    "\n",
    "# Шаг 3: Найдём пары, которых нет среди подтверждённых\n",
    "all_positions = data[['position', 'client_name']].drop_duplicates()\n",
    "not_confirmed_positions = all_positions.merge(\n",
    "    confirmed_positions,\n",
    "    on=['position', 'client_name'],\n",
    "    how='left',\n",
    "    indicator=True\n",
    ").query('_merge == \"left_only\"')[['position', 'client_name']]\n",
    "\n",
    "# Результат\n",
    "print(\"Компании и позиции без подтверждённых случаев:\")\n",
    "not_confirmed_positions"
   ]
  },
  {
   "cell_type": "code",
   "execution_count": 38,
   "id": "a610f659",
   "metadata": {},
   "outputs": [],
   "source": [
    "import matplotlib.pyplot as plt\n",
    "import seaborn as sns"
   ]
  },
  {
   "cell_type": "code",
   "execution_count": 47,
   "id": "f11a11f2",
   "metadata": {},
   "outputs": [
    {
     "data": {
      "text/plain": [
       "Index(['position', 'age', 'country', 'city', 'key_skills', 'client_name',\n",
       "       'grade_proof', 'salary'],\n",
       "      dtype='object')"
      ]
     },
     "execution_count": 47,
     "metadata": {},
     "output_type": "execute_result"
    }
   ],
   "source": [
    "data.columns"
   ]
  },
  {
   "cell_type": "code",
   "execution_count": 59,
   "id": "71fb0bca",
   "metadata": {},
   "outputs": [
    {
     "data": {
      "text/plain": [
       "'Вероника претендует на Грейд 2 (Остальные регионы).'"
      ]
     },
     "execution_count": 59,
     "metadata": {},
     "output_type": "execute_result"
    }
   ],
   "source": [
    "data['salary'][0]"
   ]
  },
  {
   "cell_type": "code",
   "execution_count": 58,
   "id": "65da3512",
   "metadata": {},
   "outputs": [
    {
     "data": {
      "text/plain": [
       "<Axes: xlabel='age', ylabel='Count'>"
      ]
     },
     "execution_count": 58,
     "metadata": {},
     "output_type": "execute_result"
    },
    {
     "data": {
      "image/png": "[encoded data removed]",
      "text/plain": [
       "<Figure size 640x480 with 1 Axes>"
      ]
     },
     "metadata": {},
     "output_type": "display_data"
    }
   ],
   "source": [
    "sns.histplot(data[data.grade_proof == 'подтверждён'].age, bins=15, color=\"blue\", edgecolor=\"black\")"
   ]
  },
  {
   "cell_type": "code",
   "execution_count": null,
   "id": "cb4c1e88",
   "metadata": {},
   "outputs": [],
   "source": []
  }
 ],
 "metadata": {
  "kernelspec": {
   "display_name": "Python 3 (ipykernel)",
   "language": "python",
   "name": "python3"
  },
  "language_info": {
   "codemirror_mode": {
    "name": "ipython",
    "version": 3
   },
   "file_extension": ".py",
   "mimetype": "text/x-python",
   "name": "python",
   "nbconvert_exporter": "python",
   "pygments_lexer": "ipython3",
   "version": "3.11.5"
  }
 },
 "nbformat": 4,
 "nbformat_minor": 5
}
