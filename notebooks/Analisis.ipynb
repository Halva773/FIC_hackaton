{
 "cells": [
  {
   "cell_type": "code",
   "execution_count": 1,
   "id": "aeda5462",
   "metadata": {},
   "outputs": [],
   "source": [
    "import pandas as pd"
   ]
  },
  {
   "cell_type": "code",
   "execution_count": 23,
   "id": "1d8602da",
   "metadata": {},
   "outputs": [
    {
     "name": "stdout",
     "output_type": "stream",
     "text": [
      "(12673, 8)\n"
     ]
    },
    {
     "data": {
      "text/html": [
       "<div>\n",
       "<style scoped>\n",
       "    .dataframe tbody tr th:only-of-type {\n",
       "        vertical-align: middle;\n",
       "    }\n",
       "\n",
       "    .dataframe tbody tr th {\n",
       "        vertical-align: top;\n",
       "    }\n",
       "\n",
       "    .dataframe thead th {\n",
       "        text-align: right;\n",
       "    }\n",
       "</style>\n",
       "<table border=\"1\" class=\"dataframe\">\n",
       "  <thead>\n",
       "    <tr style=\"text-align: right;\">\n",
       "      <th></th>\n",
       "      <th>position</th>\n",
       "      <th>age</th>\n",
       "      <th>country</th>\n",
       "      <th>city</th>\n",
       "      <th>key_skills</th>\n",
       "      <th>client_name</th>\n",
       "      <th>grade_proof</th>\n",
       "      <th>salary</th>\n",
       "    </tr>\n",
       "  </thead>\n",
       "  <tbody>\n",
       "    <tr>\n",
       "      <th>0</th>\n",
       "      <td>\"программист\" (по факту аналитик), отдел проек...</td>\n",
       "      <td>34.0</td>\n",
       "      <td>Россия</td>\n",
       "      <td>Барнаул</td>\n",
       "      <td>Анализ требований, Разработка ТЗ, Управление т...</td>\n",
       "      <td>ТОП Финтех</td>\n",
       "      <td>не подтверждён</td>\n",
       "      <td>Вероника претендует на Грейд 2 (Остальные реги...</td>\n",
       "    </tr>\n",
       "    <tr>\n",
       "      <th>1</th>\n",
       "      <td>(Повышение) Инженер отдела управления инфрастр...</td>\n",
       "      <td>35.0</td>\n",
       "      <td>Россия</td>\n",
       "      <td>Калининград</td>\n",
       "      <td>Организация обработки конфиденциальной информа...</td>\n",
       "      <td>ТОП IT (сервисы, интеграторы)</td>\n",
       "      <td>не подтверждён</td>\n",
       "      <td>Минимум 200 (net, без учёта премий), комфорт 2...</td>\n",
       "    </tr>\n",
       "    <tr>\n",
       "      <th>2</th>\n",
       "      <td>(Повышение) Инженер отдела управления инфрастр...</td>\n",
       "      <td>35.0</td>\n",
       "      <td>Россия</td>\n",
       "      <td>Калининград</td>\n",
       "      <td>Организация обработки конфиденциальной информа...</td>\n",
       "      <td>ТОП Телеком</td>\n",
       "      <td>не подтверждён</td>\n",
       "      <td>Минимум 200 (net, без учёта премий), комфорт 2...</td>\n",
       "    </tr>\n",
       "    <tr>\n",
       "      <th>3</th>\n",
       "      <td>(Повышение) Инженер отдела управления инфрастр...</td>\n",
       "      <td>35.0</td>\n",
       "      <td>Россия</td>\n",
       "      <td>Калининград</td>\n",
       "      <td>Организация обработки конфиденциальной информа...</td>\n",
       "      <td>ТОП IT (сервисы, интеграторы)</td>\n",
       "      <td>не подтверждён</td>\n",
       "      <td>Минимум 200 (net, без учёта премий), комфорт 2...</td>\n",
       "    </tr>\n",
       "    <tr>\n",
       "      <th>4</th>\n",
       "      <td>(Повышение) Инженер отдела управления инфрастр...</td>\n",
       "      <td>35.0</td>\n",
       "      <td>Россия</td>\n",
       "      <td>Калининград</td>\n",
       "      <td>Организация обработки конфиденциальной информа...</td>\n",
       "      <td>ТОП Финтех</td>\n",
       "      <td>не подтверждён</td>\n",
       "      <td>Минимум 200 (net, без учёта премий), комфорт 2...</td>\n",
       "    </tr>\n",
       "  </tbody>\n",
       "</table>\n",
       "</div>"
      ],
      "text/plain": [
       "                                            position   age country  \\\n",
       "0  \"программист\" (по факту аналитик), отдел проек...  34.0  Россия   \n",
       "1  (Повышение) Инженер отдела управления инфрастр...  35.0  Россия   \n",
       "2  (Повышение) Инженер отдела управления инфрастр...  35.0  Россия   \n",
       "3  (Повышение) Инженер отдела управления инфрастр...  35.0  Россия   \n",
       "4  (Повышение) Инженер отдела управления инфрастр...  35.0  Россия   \n",
       "\n",
       "          city                                         key_skills  \\\n",
       "0      Барнаул  Анализ требований, Разработка ТЗ, Управление т...   \n",
       "1  Калининград  Организация обработки конфиденциальной информа...   \n",
       "2  Калининград  Организация обработки конфиденциальной информа...   \n",
       "3  Калининград  Организация обработки конфиденциальной информа...   \n",
       "4  Калининград  Организация обработки конфиденциальной информа...   \n",
       "\n",
       "                     client_name     grade_proof  \\\n",
       "0                     ТОП Финтех  не подтверждён   \n",
       "1  ТОП IT (сервисы, интеграторы)  не подтверждён   \n",
       "2                    ТОП Телеком  не подтверждён   \n",
       "3  ТОП IT (сервисы, интеграторы)  не подтверждён   \n",
       "4                     ТОП Финтех  не подтверждён   \n",
       "\n",
       "                                              salary  \n",
       "0  Вероника претендует на Грейд 2 (Остальные реги...  \n",
       "1  Минимум 200 (net, без учёта премий), комфорт 2...  \n",
       "2  Минимум 200 (net, без учёта премий), комфорт 2...  \n",
       "3  Минимум 200 (net, без учёта премий), комфорт 2...  \n",
       "4  Минимум 200 (net, без учёта премий), комфорт 2...  "
      ]
     },
     "execution_count": 23,
     "metadata": {},
     "output_type": "execute_result"
    }
   ],
   "source": [
    "data = pd.read_csv('../data/client_dataset_csv.csv', index_col=0)\n",
    "print(data.shape)\n",
    "data.head()"
   ]
  },
  {
   "cell_type": "code",
   "execution_count": 26,
   "id": "e2bd201b",
   "metadata": {},
   "outputs": [
    {
     "data": {
      "text/plain": [
       "client_name\n",
       "ТОП Финтех                       550\n",
       "ТОП IT (сервисы, интеграторы)     83\n",
       "ТОП Телеком                       69\n",
       "X5 Group                          21\n",
       "Cloud.ru                          12\n",
       "Яндекс Маркет                      7\n",
       "ЮЛаки                              7\n",
       "Сбер Еаптека                       7\n",
       "ТОП eCOM                           7\n",
       "Click2Money                        3\n",
       "Nebius                             3\n",
       "Amdocs                             3\n",
       "М.Видео – Эльдорадо                3\n",
       "Брусника                           3\n",
       "ЛитРес                             2\n",
       "4 Лапы                             2\n",
       "Хеликон                            2\n",
       "Fun&Sun                            2\n",
       "РСХБ                               2\n",
       "Loymax                             2\n",
       "OZON                               2\n",
       "Казино NDA                         2\n",
       "Самолёт                            2\n",
       "585 RPO                            1\n",
       "Equifax                            1\n",
       "Papa John's                        1\n",
       "Brand Analytics                    1\n",
       "InDrive                            1\n",
       "Яндекс.Cloud                       1\n",
       "ЦБ РФ                              1\n",
       "Hawex                              1\n",
       "BIOCAD                             1\n",
       "Name: count, dtype: int64"
      ]
     },
     "execution_count": 26,
     "metadata": {},
     "output_type": "execute_result"
    }
   ],
   "source": [
    "data[data.grade_proof == 'подтверждён'].client_name.value_counts()"
   ]
  },
  {
   "cell_type": "code",
   "execution_count": 30,
   "id": "de5083a3",
   "metadata": {},
   "outputs": [
    {
     "data": {
      "text/plain": [
       "position\n",
       "Системный аналитик                            679\n",
       "Ведущий системный аналитик                    215\n",
       "Java Developer                                183\n",
       "Java-разработчик                              170\n",
       "DevOps                                        149\n",
       "                                             ... \n",
       "Tech Lead (Ansible)                             1\n",
       "Tech Lead / ранее Ведущий Java разработчик      1\n",
       "Tech Lead AQA                                   1\n",
       "Tech Lead DevOps                                1\n",
       "‮                                               1\n",
       "Name: count, Length: 4033, dtype: int64"
      ]
     },
     "execution_count": 30,
     "metadata": {},
     "output_type": "execute_result"
    }
   ],
   "source": [
    "data.position.value_counts()"
   ]
  },
  {
   "cell_type": "code",
   "execution_count": 14,
   "id": "282b2cd5",
   "metadata": {},
   "outputs": [],
   "source": [
    "data.position = data.position.apply(lambda x: x.lower())# value_counts().head()"
   ]
  },
  {
   "cell_type": "code",
   "execution_count": 15,
   "id": "df9193a7",
   "metadata": {},
   "outputs": [
    {
     "data": {
      "text/plain": [
       "position\n",
       ".net разработчик                                         40\n",
       ".net developer                                           27\n",
       ".net backend developer                                    6\n",
       "(повышение) инженер отдела управления инфраструктурой     4\n",
       "1с программист                                            4\n",
       "Name: count, dtype: int64"
      ]
     },
     "execution_count": 15,
     "metadata": {},
     "output_type": "execute_result"
    }
   ],
   "source": [
    "data.position.value_counts().head()"
   ]
  },
  {
   "cell_type": "code",
   "execution_count": 19,
   "id": "8e00a5fb",
   "metadata": {},
   "outputs": [
    {
     "name": "stdout",
     "output_type": "stream",
     "text": [
      "position                                                                       client_name                  \n",
      "\"программист\" (по факту аналитик), отдел проектирование информационных систем  ТОП Финтех                       1\n",
      "(парт-тайм) преподаватель направления информационной безопасности              X5 Group                         1\n",
      "                                                                               Черкизово                        1\n",
      "(повышение) инженер отдела управления инфраструктурой                          ТОП IT (сервисы, интеграторы)    2\n",
      "                                                                               ТОП Телеком                      1\n",
      "dtype: int64\n"
     ]
    }
   ],
   "source": [
    "print(data.groupby(['position', 'client_name']).size().head())"
   ]
  },
  {
   "cell_type": "code",
   "execution_count": 29,
   "id": "f22bcc79",
   "metadata": {},
   "outputs": [
    {
     "name": "stdout",
     "output_type": "stream",
     "text": [
      "Компании и позиции без подтверждённых случаев:\n"
     ]
    },
    {
     "data": {
      "text/html": [
       "<div>\n",
       "<style scoped>\n",
       "    .dataframe tbody tr th:only-of-type {\n",
       "        vertical-align: middle;\n",
       "    }\n",
       "\n",
       "    .dataframe tbody tr th {\n",
       "        vertical-align: top;\n",
       "    }\n",
       "\n",
       "    .dataframe thead th {\n",
       "        text-align: right;\n",
       "    }\n",
       "</style>\n",
       "<table border=\"1\" class=\"dataframe\">\n",
       "  <thead>\n",
       "    <tr style=\"text-align: right;\">\n",
       "      <th></th>\n",
       "      <th>position</th>\n",
       "      <th>client_name</th>\n",
       "    </tr>\n",
       "  </thead>\n",
       "  <tbody>\n",
       "    <tr>\n",
       "      <th>0</th>\n",
       "      <td>\"программист\" (по факту аналитик), отдел проек...</td>\n",
       "      <td>ТОП Финтех</td>\n",
       "    </tr>\n",
       "    <tr>\n",
       "      <th>1</th>\n",
       "      <td>(Повышение) Инженер отдела управления инфрастр...</td>\n",
       "      <td>ТОП IT (сервисы, интеграторы)</td>\n",
       "    </tr>\n",
       "    <tr>\n",
       "      <th>2</th>\n",
       "      <td>(Повышение) Инженер отдела управления инфрастр...</td>\n",
       "      <td>ТОП Телеком</td>\n",
       "    </tr>\n",
       "    <tr>\n",
       "      <th>3</th>\n",
       "      <td>(Повышение) Инженер отдела управления инфрастр...</td>\n",
       "      <td>ТОП Финтех</td>\n",
       "    </tr>\n",
       "    <tr>\n",
       "      <th>4</th>\n",
       "      <td>(Проектная работа) QC Engineer</td>\n",
       "      <td>ТОП IT (сервисы, интеграторы)</td>\n",
       "    </tr>\n",
       "    <tr>\n",
       "      <th>...</th>\n",
       "      <td>...</td>\n",
       "      <td>...</td>\n",
       "    </tr>\n",
       "    <tr>\n",
       "      <th>5869</th>\n",
       "      <td>старший Java разработчик</td>\n",
       "      <td>ТОП Финтех</td>\n",
       "    </tr>\n",
       "    <tr>\n",
       "      <th>5871</th>\n",
       "      <td>старший инженер тестировщик</td>\n",
       "      <td>ТОП Финтех</td>\n",
       "    </tr>\n",
       "    <tr>\n",
       "      <th>5873</th>\n",
       "      <td>тимлид(Lead)</td>\n",
       "      <td>Сбер Еаптека</td>\n",
       "    </tr>\n",
       "    <tr>\n",
       "      <th>5874</th>\n",
       "      <td>фронтэнд разработчик</td>\n",
       "      <td>ТОП Финтех</td>\n",
       "    </tr>\n",
       "    <tr>\n",
       "      <th>5875</th>\n",
       "      <td>‮</td>\n",
       "      <td>ТОП Телеком</td>\n",
       "    </tr>\n",
       "  </tbody>\n",
       "</table>\n",
       "<p>5314 rows × 2 columns</p>\n",
       "</div>"
      ],
      "text/plain": [
       "                                               position  \\\n",
       "0     \"программист\" (по факту аналитик), отдел проек...   \n",
       "1     (Повышение) Инженер отдела управления инфрастр...   \n",
       "2     (Повышение) Инженер отдела управления инфрастр...   \n",
       "3     (Повышение) Инженер отдела управления инфрастр...   \n",
       "4                        (Проектная работа) QC Engineer   \n",
       "...                                                 ...   \n",
       "5869                           старший Java разработчик   \n",
       "5871                        старший инженер тестировщик   \n",
       "5873                                       тимлид(Lead)   \n",
       "5874                               фронтэнд разработчик   \n",
       "5875                                                  ‮   \n",
       "\n",
       "                        client_name  \n",
       "0                        ТОП Финтех  \n",
       "1     ТОП IT (сервисы, интеграторы)  \n",
       "2                       ТОП Телеком  \n",
       "3                        ТОП Финтех  \n",
       "4     ТОП IT (сервисы, интеграторы)  \n",
       "...                             ...  \n",
       "5869                     ТОП Финтех  \n",
       "5871                     ТОП Финтех  \n",
       "5873                   Сбер Еаптека  \n",
       "5874                     ТОП Финтех  \n",
       "5875                    ТОП Телеком  \n",
       "\n",
       "[5314 rows x 2 columns]"
      ]
     },
     "execution_count": 29,
     "metadata": {},
     "output_type": "execute_result"
    }
   ],
   "source": [
    "confirmed_cases = data[data['grade_proof'] == 'подтверждён']\n",
    "\n",
    "# Шаг 2: Определим пары (position, client_name) с подтверждёнными случаями\n",
    "confirmed_positions = confirmed_cases[['position', 'client_name']].drop_duplicates()\n",
    "\n",
    "# Шаг 3: Найдём пары, которых нет среди подтверждённых\n",
    "all_positions = data[['position', 'client_name']].drop_duplicates()\n",
    "not_confirmed_positions = all_positions.merge(\n",
    "    confirmed_positions,\n",
    "    on=['position', 'client_name'],\n",
    "    how='left',\n",
    "    indicator=True\n",
    ").query('_merge == \"left_only\"')[['position', 'client_name']]\n",
    "\n",
    "# Результат\n",
    "print(\"Компании и позиции без подтверждённых случаев:\")\n",
    "not_confirmed_positions"
   ]
  }
 ],
 "metadata": {
  "kernelspec": {
   "display_name": "Python 3 (ipykernel)",
   "language": "python",
   "name": "python3"
  },
  "language_info": {
   "codemirror_mode": {
    "name": "ipython",
    "version": 3
   },
   "file_extension": ".py",
   "mimetype": "text/x-python",
   "name": "python",
   "nbconvert_exporter": "python",
   "pygments_lexer": "ipython3",
   "version": "3.11.5"
  }
 },
 "nbformat": 4,
 "nbformat_minor": 5
}
